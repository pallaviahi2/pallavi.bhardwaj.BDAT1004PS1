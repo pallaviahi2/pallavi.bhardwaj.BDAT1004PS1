{
 "cells": [
  {
   "cell_type": "markdown",
   "id": "63c70d62",
   "metadata": {},
   "source": [
    "# Question 1 C#\n",
    "What data type is each of the following?\n",
    "5 \n",
    "5.0\n",
    "5 > 1\n",
    "'5'\n",
    "5 * 2\n",
    "'5' * 2\n",
    "'5' + '2'\n",
    "5 / 2\n",
    "5 % 2\n",
    "{5, 2, 1}\n",
    "5 == 3\n",
    "Pi (the number"
   ]
  },
  {
   "cell_type": "code",
   "execution_count": null,
   "id": "df21fa3a",
   "metadata": {},
   "outputs": [],
   "source": [
    "5 : int\n",
    "5.0 : float\n",
    "5 > 1 : boolean\n",
    "'5': char\n",
    "5 * 2 : int\n",
    "'5' * 2 : \n",
    "'5' + '2' : \n",
    "5 / 2 : double\n",
    "5 % 2 : int\n",
    "{5, 2, 1} : array\n",
    "5 == 3 : boolean\n",
    "Pi the number : Float"
   ]
  },
  {
   "cell_type": "markdown",
   "id": "2df6d6d3",
   "metadata": {},
   "source": [
    "# Question 2 C#\n",
    "Write (and evaluate) C# expressions that answer these questions:\n",
    "a. How many letters are there in 'Supercalifragilisticexpialidocious'?\n",
    "b. Does 'Supercalifragilisticexpialidocious' contain 'ice' as a substring? \n",
    "c. Which of the following words is the longest: \n",
    "Supercalifragilisticexpialidocious, Honorificabilitudinitatibus, or \n",
    "Bababadalgharaghtakamminarronnkonn? \n",
    "d. Which composer comes first in the dictionary: 'Berlioz', 'Borodin', 'Brian', \n",
    "'Bartok', 'Bellini', 'Buxtehude', 'Bernstein'. Which one comes last?\n"
   ]
  },
  {
   "cell_type": "code",
   "execution_count": null,
   "id": "901668bc",
   "metadata": {},
   "outputs": [],
   "source": [
    "using System;\n",
    "public class String\n",
    "{\n",
    "    public static void Main()\n",
    "    {\n",
    "        string str=\"Supercalifragilisticexpialidocious\";\n",
    "        int l;\n",
    "        l = str.Length;\n",
    "        Console.Write(\"Number of letter in the string are : {0}\\n\", l);\n",
    "    }\n",
    "}"
   ]
  },
  {
   "cell_type": "code",
   "execution_count": null,
   "id": "06371017",
   "metadata": {},
   "outputs": [],
   "source": [
    "using System;\n",
    "public class String\n",
    "{\n",
    "    public static void Main()\n",
    "    {\n",
    "         string str1 = \"Supercalifragilisticexpialidocious\", str2 = \"ice\";\n",
    "        bool res;\n",
    "        res = str1.Contains(str2);\n",
    "        if (res)\n",
    "            Console.Write(\"The substring \" + str2 + \" is in the string \" + str1);\n",
    "        else\n",
    "            Console.Write(\"The substring \" + str2 + \" is not in the string \" + str1);\n",
    "        Console.Write(\"\\n \");\n",
    "    }\n",
    "}"
   ]
  },
  {
   "cell_type": "code",
   "execution_count": null,
   "id": "63475711",
   "metadata": {},
   "outputs": [],
   "source": [
    "using System;\n",
    "using System.Linq;\n",
    "public class String\n",
    "{\n",
    "    public static void Main()\n",
    "    {\n",
    "        // check longest string\n",
    "        string[] arr = new string[] { \"Supercalifragilisticexpialidocious\", \"Honorificabilitudinitatibus\", \"Bababadalgharaghtakamminarronnkonn\" };\n",
    "        var longest = arr.Where(s => s.Length == arr.Max(m => m.Length)).First();\n",
    "        Console.WriteLine(\"Longest string is:\" + longest);\n",
    "    }\n",
    "}"
   ]
  },
  {
   "cell_type": "markdown",
   "id": "78d8d030",
   "metadata": {},
   "source": [
    "# Question 3 C#\n",
    "Implement function triangleArea(a,b,c) that takes as input the lengths of the 3\n",
    "sides of a triangle and returns the area of the triangle. By Heron's formula, the area \n",
    "of a triangle with side lengths a, b, and c is\n",
    "s(s - a)(s -b)(s -c)\n",
    ", where \n",
    "s = (a+b+c)/2."
   ]
  },
  {
   "cell_type": "code",
   "execution_count": 56,
   "id": "5ec522b4",
   "metadata": {},
   "outputs": [],
   "source": [
    " using System;\n",
    "    public class TriangleArea\n",
    "        {\n",
    "            public static void Main()\n",
    "                {\n",
    "                    Console.Write(\"Enter length of side A:\");\n",
    "                    double sideA = Convert.ToDouble(Console.ReadLine());\n",
    "                    Console.Write(\"Enter length of side B:\");\n",
    "                    double sideB = Convert.ToDouble(Console.ReadLine());\n",
    "                    Console.Write(\"Enter length of side C:\");\n",
    "                    double sideC = Convert.ToDouble(Console.ReadLine());\n",
    "                    double semiperimeter = (sideA + sideB + sideC) / 2;\n",
    "                    double Area = Math.Sqrt(semiperimeter * (semiperimeter - sideA) * (semiperimeter - sideB) * (semiperimeter - sideC));\n",
    "                    Console.Write(\"Area of a Triangle = \" + Area);\n",
    "                    Console.ReadKey();\n",
    "                }\n",
    "        }\n"
   ]
  },
  {
   "cell_type": "markdown",
   "id": "548707a2",
   "metadata": {},
   "source": [
    "# Question 4 C#\n",
    "Write a program in C# Sharp to separate odd and even integers in separate arrays. \n",
    "Go to the editor\n",
    "Test Data :\n",
    "Input the number of elements to be stored in the array :5\n",
    "Input 5 elements in the array :\n",
    "element - 0 : 25\n",
    "element - 1 : 47\n",
    "element - 2 : 42\n",
    "element - 3 : 56\n",
    "element - 4 : 32\n",
    "Expected Output:\n",
    "The Even elements are:\n",
    "42 56 32\n",
    "The Odd elements are :\n",
    "25 47"
   ]
  },
  {
   "cell_type": "code",
   "execution_count": 30,
   "id": "8f58930d",
   "metadata": {},
   "outputs": [],
   "source": [
    "public class EvenOdd\n",
    "{\n",
    "    public static void Main()\n",
    "    {\n",
    "        int[] arr1 = new int[10];\n",
    "        int[] arr2 = new int[10];\n",
    "        int[] arr3 = new int[10];\n",
    "        int i, j = 0, k = 0, n;\n",
    "\n",
    "\n",
    "        Console.Write(\"\\n\\n Even and Odd elements:\\n\");\n",
    "        Console.Write(\"------------------------------------------------------\\n\");\n",
    "\n",
    "        Console.Write(\"Input the number of elements to be stored in the array :\");\n",
    "        n = Convert.ToInt32(Console.ReadLine());\n",
    "\n",
    "        Console.Write(\"Input {0} elements in the array :\\n\", n);\n",
    "        for (i = 0; i < n; i++)\n",
    "        {\n",
    "            Console.Write(\"element - {0} : \", i);\n",
    "            arr1[i] = Convert.ToInt32(Console.ReadLine());\n",
    "        }\n",
    "\n",
    "        for (i = 0; i < n; i++)\n",
    "        {\n",
    "            if (arr1[i] % 2 == 0)\n",
    "            {\n",
    "                arr2[j] = arr1[i];\n",
    "                j++;\n",
    "            }\n",
    "            else\n",
    "            {\n",
    "                arr3[k] = arr1[i];\n",
    "                k++;\n",
    "            }\n",
    "        }\n",
    "\n",
    "        Console.Write(\"\\nThe Even elements are : \\n\");\n",
    "        for (i = 0; i < j; i++)\n",
    "        {\n",
    "            Console.Write(\"{0} \", arr2[i]);\n",
    "        }\n",
    "\n",
    "        Console.Write(\"\\nThe Odd elements are :\\n\");\n",
    "        for (i = 0; i < k; i++)\n",
    "        {\n",
    "            Console.Write(\"{0} \", arr3[i]);\n",
    "        }\n",
    "        Console.Write(\"\\n\\n\");\n",
    "    }\n",
    "}\n"
   ]
  },
  {
   "cell_type": "markdown",
   "id": "f35bb709",
   "metadata": {},
   "source": [
    "# Question 5 C#\n",
    "\n",
    "a. Write a function inside(x,y,x1,y1,x2,y2) that returns True or False \n",
    "depending on whether the point (x,y) lies in the rectangle with lower left \n",
    "corner (x1,y1) and upper right corner (x2,y2).\n",
    ">>> inside(1,1,0,0,2,3)\n",
    "True\n",
    ">>> inside(-1,-1,0,0,2,3)\n",
    "False\n",
    "\n",
    "b. Use function inside() from part a. to write an expression that tests whether \n",
    "the point (1,1) lies in both of the following rectangles: one with lower left \n",
    "corner (0.3, 0.5) and upper right corner (1.1, 0.7) and the other with lower \n",
    "left corner (0.5, 0.2) and upper right corner (1.1, 2). "
   ]
  },
  {
   "cell_type": "code",
   "execution_count": null,
   "id": "ad33db2b",
   "metadata": {},
   "outputs": [],
   "source": [
    "Reference for code - https://www.geeksforgeeks.org/check-if-a-point-lies-on-or-inside-a-rectangle-set-2/\n",
    "\n",
    "\n",
    "\n",
    "\n",
    "class GFG {\n",
    "     \n",
    "    // A utility function to calculate area\n",
    "    // of triangle formed by (x1, y1),\n",
    "    // (x2, y2) and (x3, y3)\n",
    "    static float area(int x1, int y1, int x2,\n",
    "                      int y2, int x3, int y3)\n",
    "    {\n",
    "        return (float)Math.Abs((x1 * (y2 - y3) +\n",
    "                                x2 * (y3 - y1) +\n",
    "                                x3 * (y1 - y2)) / 2.0);\n",
    "    }\n",
    "         \n",
    "    // A function to check whether point P(x, y)\n",
    "    // lies inside the rectangle formed by A(x1, y1),\n",
    "    // B(x2, y2), C(x3, y3) and D(x4, y4)\n",
    "    static bool check(int x1, int y1, int x2,\n",
    "                      int y2, int x3, int y3,\n",
    "                   int x4, int y4, int x, int y)\n",
    "    {\n",
    "         \n",
    "        // Calculate area of rectangle ABCD\n",
    "        float A = area(x1, y1, x2, y2, x3, y3) +\n",
    "                  area(x1, y1, x4, y4, x3, y3);\n",
    "     \n",
    "        // Calculate area of triangle PAB\n",
    "        float A1 = area(x, y, x1, y1, x2, y2);\n",
    "     \n",
    "        // Calculate area of triangle PBC\n",
    "        float A2 = area(x, y, x2, y2, x3, y3);\n",
    "     \n",
    "        // Calculate area of triangle PCD\n",
    "        float A3 = area(x, y, x3, y3, x4, y4);\n",
    "     \n",
    "        // Calculate area of triangle PAD\n",
    "        float A4 = area(x, y, x1, y1, x4, y4);\n",
    "     \n",
    "        // Check if sum of A1, A2, A3 \n",
    "        // and A4is same as A\n",
    "        return (A == A1 + A2 + A3 + A4);\n",
    "    }\n",
    "     \n",
    "    // Driver code\n",
    "    public static void Main ()\n",
    "    {\n",
    "         \n",
    "        // Let us check whether the point\n",
    "        // P(10, 15) lies inside the rectangle\n",
    "        // formed by A(0, 10), B(10, 0),\n",
    "        // C(0, -10), D(-10, 0)\n",
    "        if (check(0, 10, 10, 0, 0, -10, -10, 0, 10, 15))\n",
    "            Console.Write(\"yes\");\n",
    "        else\n",
    "            Console.Write(\"no\");\n",
    "    }\n",
    "}\n"
   ]
  },
  {
   "cell_type": "code",
   "execution_count": null,
   "id": "a0915d55",
   "metadata": {},
   "outputs": [],
   "source": []
  },
  {
   "cell_type": "markdown",
   "id": "9793be73",
   "metadata": {},
   "source": [
    "# Question 6 You can turn a word into pig-Latin using the following two rules (simplified):\n",
    "• If the word starts with a consonant, move that letter to the end and append \n",
    "'ay'. For example, 'happy' becomes 'appyhay' and 'pencil' becomes 'encilpay'.\n",
    "• If the word starts with a vowel, simply append 'way' to the end of the word. \n",
    "For example, 'enter' becomes 'enterway' and 'other' becomes 'otherway' . For \n",
    "our purposes, there are 5 vowels: a, e, i, o, u (so we count y as a consonant).\n",
    "Write a function pig() that takes a word (i.e., a string) as input and returns its pig\u0002Latin form. Your function should still work if the input word contains upper case \n",
    "characters. Your output should always be lower case however."
   ]
  },
  {
   "cell_type": "code",
   "execution_count": 2,
   "id": "719d1af2",
   "metadata": {},
   "outputs": [
    {
     "name": "stdout",
     "output_type": "stream",
     "text": [
      "Enter word to be translated into pig-Latin:\n",
      "enter\n",
      "enterway\n"
     ]
    }
   ],
   "source": [
    "user_input = input(\"Enter word to be translated into pig-Latin:\\n\")\n",
    "vowels = ['a','e','i','o','u']\n",
    "def translate(user_input): \n",
    "    first = user_input[0]\n",
    "\n",
    "    if first in vowels: \n",
    "         user_input = user_input.lower()\n",
    "         user_input += \"way\" \n",
    "         return user_input\n",
    "    else: \n",
    "        user_input = user_input.lower()\n",
    "\n",
    "        for letter in user_input:\n",
    "            if letter in vowels:\n",
    "                index_value = user_input.index(letter)\n",
    "                break\n",
    "\n",
    "        user_input = user_input[index_value:] +user_input[:index_value]+ \"ay\" \n",
    "        return user_input \n",
    "\n",
    "print(translate(user_input))"
   ]
  },
  {
   "cell_type": "markdown",
   "id": "138981e8",
   "metadata": {},
   "source": [
    "# Question 7 Python\n",
    "File bloodtype1.txt records blood-types of patients (A, B, AB, O or OO) at a clinic. \n",
    "Write a function bldcount() that reads the file with name name and reports (i.e., \n",
    "prints) how many patients there are in each bloodtype."
   ]
  },
  {
   "cell_type": "code",
   "execution_count": 1,
   "id": "1b612e5b",
   "metadata": {},
   "outputs": [
    {
     "name": "stdout",
     "output_type": "stream",
     "text": [
      "AB AB B O A A AB O AB A O O A A A O O O AB O A A A A A AB AB A AB O AB O A O O O AB O AB AB AB A A O \n"
     ]
    }
   ],
   "source": [
    "fileObject = open(\"C:/Users/palla/OneDrive/Desktop/bloodtype1.txt\", \"r\")\n",
    "data = fileObject.read()\n",
    "print(data)"
   ]
  },
  {
   "cell_type": "markdown",
   "id": "af7b19f1",
   "metadata": {},
   "source": [
    "# Question 8 Python\n",
    "Write a function curconv() that takes as input:\n",
    "1. a currency represented using a string (e.g., 'JPY' for the Japanese Yen or \n",
    "'EUR' for the Euro)\n",
    "2. an amount\n",
    "and then converts and returns the amount in US dollars"
   ]
  },
  {
   "cell_type": "code",
   "execution_count": 12,
   "id": "686ce74e",
   "metadata": {},
   "outputs": [
    {
     "name": "stdout",
     "output_type": "stream",
     "text": [
      "enter the unit of currencyINR\n",
      "enter the amount100\n",
      "1.77643\n"
     ]
    }
   ],
   "source": [
    "def curcov(currename,amount):\n",
    "    with open(\"C:/Users/palla/OneDrive/Desktop/currencies.txt\") as myFile:\n",
    "        for num, line in enumerate(myFile, 1):\n",
    "             if currename in line:\n",
    "                    moneyamount = list(line.split())\n",
    "                    print(float(amount) * float(moneyamount[1]))\n",
    "                    \n",
    "currename = input(\"enter the unit of currency\")\n",
    "amount = input(\"enter the amount\")\n",
    "\n",
    "curcov(currename,amount)"
   ]
  },
  {
   "cell_type": "markdown",
   "id": "098dc7ad",
   "metadata": {},
   "source": [
    "# Question 9 Python\n",
    "Each of the following will cause an exception (an error). Identify what type of \n",
    "exception each will cause.\n",
    "\n",
    "Trying to add incompatible variables, as in \n",
    "adding 6 + ‘a’\n",
    "Referring to the 12th item of a list that has only 10 \n",
    "items\n",
    "Using a value that is out of range for a function’s \n",
    "input, such as calling math.sqrt(-1.0)\n",
    "Using an undeclared variable, such as print(x)\n",
    "when x has not been defined \n",
    "Trying to open a file that does not exist, such as \n",
    "mistyping the file name or looking in the wrong \n",
    "directory. "
   ]
  },
  {
   "cell_type": "code",
   "execution_count": 19,
   "id": "415f2f70",
   "metadata": {
    "scrolled": false
   },
   "outputs": [
    {
     "ename": "TypeError",
     "evalue": "unsupported operand type(s) for +: 'int' and 'str'",
     "output_type": "error",
     "traceback": [
      "\u001b[1;31m---------------------------------------------------------------------------\u001b[0m",
      "\u001b[1;31mTypeError\u001b[0m                                 Traceback (most recent call last)",
      "\u001b[1;32m<ipython-input-19-9028d3c07e18>\u001b[0m in \u001b[0;36m<module>\u001b[1;34m\u001b[0m\n\u001b[1;32m----> 1\u001b[1;33m \u001b[0mprint\u001b[0m\u001b[1;33m(\u001b[0m\u001b[1;36m6\u001b[0m \u001b[1;33m+\u001b[0m \u001b[1;34m'a'\u001b[0m\u001b[1;33m)\u001b[0m\u001b[1;33m\u001b[0m\u001b[1;33m\u001b[0m\u001b[0m\n\u001b[0m",
      "\u001b[1;31mTypeError\u001b[0m: unsupported operand type(s) for +: 'int' and 'str'"
     ]
    }
   ],
   "source": [
    "print(6 + 'a')\n",
    "TypeError: unsupported operand type(s) for +: 'int' and 'str'"
   ]
  },
  {
   "cell_type": "code",
   "execution_count": 20,
   "id": "ba0b61aa",
   "metadata": {},
   "outputs": [
    {
     "ename": "IndexError",
     "evalue": "list index out of range",
     "output_type": "error",
     "traceback": [
      "\u001b[1;31m---------------------------------------------------------------------------\u001b[0m",
      "\u001b[1;31mIndexError\u001b[0m                                Traceback (most recent call last)",
      "\u001b[1;32m<ipython-input-20-5732f21cb343>\u001b[0m in \u001b[0;36m<module>\u001b[1;34m\u001b[0m\n\u001b[0;32m      1\u001b[0m \u001b[0mthislist\u001b[0m \u001b[1;33m=\u001b[0m \u001b[1;33m[\u001b[0m\u001b[1;34m\"apple\"\u001b[0m\u001b[1;33m,\u001b[0m \u001b[1;34m\"banana\"\u001b[0m\u001b[1;33m,\u001b[0m \u001b[1;34m\"cherry\"\u001b[0m\u001b[1;33m]\u001b[0m\u001b[1;33m\u001b[0m\u001b[1;33m\u001b[0m\u001b[0m\n\u001b[1;32m----> 2\u001b[1;33m \u001b[0mprint\u001b[0m\u001b[1;33m(\u001b[0m\u001b[0mthislist\u001b[0m\u001b[1;33m[\u001b[0m\u001b[1;36m6\u001b[0m\u001b[1;33m]\u001b[0m\u001b[1;33m)\u001b[0m\u001b[1;33m\u001b[0m\u001b[1;33m\u001b[0m\u001b[0m\n\u001b[0m",
      "\u001b[1;31mIndexError\u001b[0m: list index out of range"
     ]
    }
   ],
   "source": [
    "thislist = [\"apple\", \"banana\", \"cherry\"]\n",
    "print(thislist[6])\n",
    "\n",
    "---------------------------------------------------------------------------\n",
    "IndexError                                Traceback (most recent call last)\n",
    "<ipython-input-20-5732f21cb343> in <module>\n",
    "      1 thislist = [\"apple\", \"banana\", \"cherry\"]\n",
    "----> 2 print(thislist[6])\n",
    "\n",
    "IndexError: list index out of range"
   ]
  },
  {
   "cell_type": "code",
   "execution_count": 23,
   "id": "f00b8230",
   "metadata": {},
   "outputs": [
    {
     "ename": "ValueError",
     "evalue": "math domain error",
     "output_type": "error",
     "traceback": [
      "\u001b[1;31m---------------------------------------------------------------------------\u001b[0m",
      "\u001b[1;31mValueError\u001b[0m                                Traceback (most recent call last)",
      "\u001b[1;32m<ipython-input-23-a3c1916ada80>\u001b[0m in \u001b[0;36m<module>\u001b[1;34m\u001b[0m\n\u001b[0;32m      2\u001b[0m \u001b[1;32mimport\u001b[0m \u001b[0mmath\u001b[0m   \u001b[1;31m# This will import math module\u001b[0m\u001b[1;33m\u001b[0m\u001b[1;33m\u001b[0m\u001b[0m\n\u001b[0;32m      3\u001b[0m \u001b[1;33m\u001b[0m\u001b[0m\n\u001b[1;32m----> 4\u001b[1;33m \u001b[0mprint\u001b[0m \u001b[1;33m(\u001b[0m\u001b[1;34m\"math.sqrt(-1.0) : \"\u001b[0m\u001b[1;33m,\u001b[0m \u001b[0mmath\u001b[0m\u001b[1;33m.\u001b[0m\u001b[0msqrt\u001b[0m\u001b[1;33m(\u001b[0m\u001b[1;33m-\u001b[0m\u001b[1;36m1.0\u001b[0m\u001b[1;33m)\u001b[0m\u001b[1;33m)\u001b[0m\u001b[1;33m\u001b[0m\u001b[1;33m\u001b[0m\u001b[0m\n\u001b[0m",
      "\u001b[1;31mValueError\u001b[0m: math domain error"
     ]
    }
   ],
   "source": [
    "#!/usr/bin/python3\n",
    "import math   # This will import math module\n",
    "\n",
    "print (\"math.sqrt(-1.0) : \", math.sqrt(-1.0))\n",
    "\n",
    "\n",
    "---------------------------------------------------------------------------\n",
    "ValueError                                Traceback (most recent call last)\n",
    "<ipython-input-23-a3c1916ada80> in <module>\n",
    "      2 import math   # This will import math module\n",
    "      3 \n",
    "----> 4 print (\"math.sqrt(-1.0) : \", math.sqrt(-1.0))\n",
    "\n",
    "ValueError: math domain error\n"
   ]
  },
  {
   "cell_type": "code",
   "execution_count": 24,
   "id": "aba7a24c",
   "metadata": {},
   "outputs": [
    {
     "ename": "NameError",
     "evalue": "name 'x' is not defined",
     "output_type": "error",
     "traceback": [
      "\u001b[1;31m---------------------------------------------------------------------------\u001b[0m",
      "\u001b[1;31mNameError\u001b[0m                                 Traceback (most recent call last)",
      "\u001b[1;32m<ipython-input-24-fc17d851ef81>\u001b[0m in \u001b[0;36m<module>\u001b[1;34m\u001b[0m\n\u001b[1;32m----> 1\u001b[1;33m \u001b[0mprint\u001b[0m\u001b[1;33m(\u001b[0m\u001b[0mx\u001b[0m\u001b[1;33m)\u001b[0m\u001b[1;33m\u001b[0m\u001b[1;33m\u001b[0m\u001b[0m\n\u001b[0m",
      "\u001b[1;31mNameError\u001b[0m: name 'x' is not defined"
     ]
    }
   ],
   "source": [
    "print(x)\n",
    "\n",
    "\n",
    "---------------------------------------------------------------------------\n",
    "NameError                                 Traceback (most recent call last)\n",
    "<ipython-input-24-fc17d851ef81> in <module>\n",
    "----> 1 print(x)\n",
    "\n",
    "NameError: name 'x' is not defined"
   ]
  },
  {
   "cell_type": "code",
   "execution_count": 25,
   "id": "89b67ad8",
   "metadata": {},
   "outputs": [
    {
     "ename": "FileNotFoundError",
     "evalue": "[Errno 2] No such file or directory: 'C:/Users/palla/OneDrive/Desk_top/bloodtype1.txt'",
     "output_type": "error",
     "traceback": [
      "\u001b[1;31m---------------------------------------------------------------------------\u001b[0m",
      "\u001b[1;31mFileNotFoundError\u001b[0m                         Traceback (most recent call last)",
      "\u001b[1;32m<ipython-input-25-fd70d7821530>\u001b[0m in \u001b[0;36m<module>\u001b[1;34m\u001b[0m\n\u001b[1;32m----> 1\u001b[1;33m \u001b[0mfileObject\u001b[0m \u001b[1;33m=\u001b[0m \u001b[0mopen\u001b[0m\u001b[1;33m(\u001b[0m\u001b[1;34m\"C:/Users/palla/OneDrive/Desk_top/bloodtype1.txt\"\u001b[0m\u001b[1;33m,\u001b[0m \u001b[1;34m\"r\"\u001b[0m\u001b[1;33m)\u001b[0m\u001b[1;33m\u001b[0m\u001b[1;33m\u001b[0m\u001b[0m\n\u001b[0m\u001b[0;32m      2\u001b[0m \u001b[0mdata\u001b[0m \u001b[1;33m=\u001b[0m \u001b[0mfileObject\u001b[0m\u001b[1;33m.\u001b[0m\u001b[0mread\u001b[0m\u001b[1;33m(\u001b[0m\u001b[1;33m)\u001b[0m\u001b[1;33m\u001b[0m\u001b[1;33m\u001b[0m\u001b[0m\n\u001b[0;32m      3\u001b[0m \u001b[0mprint\u001b[0m\u001b[1;33m(\u001b[0m\u001b[0mdata\u001b[0m\u001b[1;33m)\u001b[0m\u001b[1;33m\u001b[0m\u001b[1;33m\u001b[0m\u001b[0m\n",
      "\u001b[1;31mFileNotFoundError\u001b[0m: [Errno 2] No such file or directory: 'C:/Users/palla/OneDrive/Desk_top/bloodtype1.txt'"
     ]
    }
   ],
   "source": [
    "fileObject = open(\"C:/Users/palla/OneDrive/Desk_top/bloodtype1.txt\", \"r\")\n",
    "data = fileObject.read()\n",
    "print(data)\n",
    "\n",
    "\n",
    "---------------------------------------------------------------------------\n",
    "FileNotFoundError                         Traceback (most recent call last)\n",
    "<ipython-input-25-fd70d7821530> in <module>\n",
    "----> 1 fileObject = open(\"C:/Users/palla/OneDrive/Desk_top/bloodtype1.txt\", \"r\")\n",
    "      2 data = fileObject.read()\n",
    "      3 print(data)\n",
    "\n",
    "FileNotFoundError: [Errno 2] No such file or directory: 'C:/Users/palla/OneDrive/Desk_top/bloodtype1.txt'\n"
   ]
  },
  {
   "cell_type": "markdown",
   "id": "41b14c8d",
   "metadata": {},
   "source": [
    "# Question 10 Python\n",
    "Encryption is the process of hiding the meaning of a text by substituting letters in the \n",
    "message with other letters, according to some system. If the process is successful, no \n",
    "one but the intended recipient can understand the encrypted message. Cryptanalysis\n",
    "refers to attempts to undo the encryption, even if some details of the encryption are \n",
    "unknown (for example, if an encrypted message has been intercepted). The first step \n",
    "of cryptanalysis is often to build up a table of letter frequencies in the encrypted text. \n",
    "Assume that the string letters is already defined as \n",
    "'abcdefghijklmnopqrstuvwxyz'. Write a function called frequencies()\n",
    "that takes a string as its only parameter, and returns a list of integers, showing the \n",
    "number of times each character appears in the text. Your function may ignore any \n",
    "characters that are not in letters. \n",
    ">>> frequencies('The quick red fox got bored and went home.')\n",
    "[1, 1, 1, 3, 5, 1, 1, 2, 1, 0, 1, 0, 1, 2, 4, 0, 1, 2, 0, 2, \n",
    "1, 0, 1, 1, 0, 0]\n",
    ">>> frequencies('apple'"
   ]
  },
  {
   "cell_type": "code",
   "execution_count": 2,
   "id": "783a1c55",
   "metadata": {},
   "outputs": [
    {
     "name": "stdout",
     "output_type": "stream",
     "text": [
      "Enter the string: apple\n",
      "a,1\n",
      "p,2\n",
      "l,1\n",
      "e,1\n"
     ]
    }
   ],
   "source": [
    "string=input(\"Enter the string: \")\n",
    "str1=list(string)\n",
    "strlist=[]\n",
    "for j in str1:\n",
    "    if j not in strlist:\n",
    "       strlist.append(j)\n",
    "       count=0\n",
    "       for i in range(len(str1)):\n",
    "         if j==str1[i]:\n",
    "           count+=1\n",
    "       print(\"{},{}\".format(j,count))"
   ]
  }
 ],
 "metadata": {
  "kernelspec": {
   "display_name": "Python 3",
   "language": "python",
   "name": "python3"
  },
  "language_info": {
   "codemirror_mode": {
    "name": "ipython",
    "version": 3
   },
   "file_extension": ".py",
   "mimetype": "text/x-python",
   "name": "python",
   "nbconvert_exporter": "python",
   "pygments_lexer": "ipython3",
   "version": "3.8.8"
  }
 },
 "nbformat": 4,
 "nbformat_minor": 5
}
